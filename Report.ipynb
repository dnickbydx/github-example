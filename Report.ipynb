{
    "cells": [
        {
            "metadata": {
                "collapsed": true
            },
            "cell_type": "markdown",
            "source": "# Clustering and hotspots for food delivery platforms\n\n## 1. Introduction\n### 1.1 Background\nFood delivery services have increased popularity in recent years due to usage of many online food ordering and delivery platform such as Uber Eats, GrabFood, and Foodpanda. Especially in the current situation of COVID-19 pandemic, many cities or countries have adopted social distancing policy. As a result, online food delivery services become even more important in many regions.  \n  \n\n### 1.2 Problem\nFor online food ordering and delivery platform, the company manages messengers who will receive orders and pick up food from various restaurants. One of the fundamental problems we will consider in this project is to find clustering of restaurants in a city by location and to find hotspots which are locations most accessible to restaurants in each cluster. For simplicity, we will focus on the city of Toronto in this project.\n\n### 1.3 Interest\nMany parties would be interested to find these clustering and hotspots. Messengers who are waiting for orders could go to these hotspots to make them close to the majority of restaurants in a certain area. Companies who manage messengers could also use clustering and hotspots to allocate their messengers optimally.  \n\n## 2. Data\n\nFor our problem, we will need to obtain a list of (possibly) all restaurants in the city along with their geographical locations. These datas will be obtained using Foursquare API. Unfortunately, Foursquare API has a limit of 50 venues per API call. To retrieve as many as restaurants in a neighborhood as possible, we use explore endpoint to first obtain a total number of venues in food section from the json file result. Then, we can use for-loop and offset option to retrieve the rest of the venues. A sample code is shown below. \n\n"
        },
        {
            "metadata": {},
            "cell_type": "code",
            "source": "# API call\n# https://api.foursquare.com/v2/venues/explore?client_secret=****&client_id=****&v=20180605&limit=50&near=Toronto&section=food\n# Inspect json['response']['totalResults']\n# Use for loop and off set to retrieve the rest of data\n# for (var i = 0; i < totalResults/50; i++) {\n#    url = 'https://api.foursquare.com/v2/venues/explore?client_secret=****&client_id=****&v=20161101&limit=50&near=Toronto&section=food&offset='(i + 1)*50';}",
            "execution_count": null,
            "outputs": []
        },
        {
            "metadata": {},
            "cell_type": "markdown",
            "source": "These venue locations will then be used to find clustering and hotspots."
        },
        {
            "metadata": {},
            "cell_type": "markdown",
            "source": "\n\n"
        }
    ],
    "metadata": {
        "kernelspec": {
            "name": "python3",
            "display_name": "Python 3.6",
            "language": "python"
        },
        "language_info": {
            "name": "python",
            "version": "3.6.9",
            "mimetype": "text/x-python",
            "codemirror_mode": {
                "name": "ipython",
                "version": 3
            },
            "pygments_lexer": "ipython3",
            "nbconvert_exporter": "python",
            "file_extension": ".py"
        }
    },
    "nbformat": 4,
    "nbformat_minor": 1
}