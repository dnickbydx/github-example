{
    "cells": [
        {
            "metadata": {
                "collapsed": true
            },
            "cell_type": "markdown",
            "source": "# Clustering and hotspots for food delivery platforms\n\n## 1. Introduction\n### 1.1 Background\nFood delivery services have increased popularity in recent years due to usage of many online food ordering and delivery platform such as Uber Eats, GrabFood, and Foodpanda. Especially in the current situation of COVID-19 pandemic, many cities or countries have adopted social distancing policy. As a result, online food delivery services become even more important in many regions.  \n  \n\n### 1.2 Problem\nFor online food ordering and delivery platform, the company manages messengers who will receive orders and pick up food from various restaurants. One of the fundamental problems we will consider in this project is to find clustering of restaurants in a city by location and to find hotspots which are locations most accessible to restaurants in each cluster. For simplicity, we will focus on the city of Toronto in this project.\n\n### 1.3 Interest\nMany parties would be interested to find these clustering and hotspots. Messengers who are waiting for orders could go to these hotspots to make them close to the majority of restaurants in a certain area. Companies who manage messengers could also use clustering and hotspots to allocate their messengers optimally.  \n\n## 2. Data\n\nFor our problem, we will need to obtain a list of (possibly) all restaurants in the city along with their geographical locations. These datas will be obtained using Foursquare API. Unfortunately, Foursquare API has a limit of 50 venues per API call. To retrieve as many as restaurants in a neighborhood as possible, we use explore endpoint to first obtain a total number of venues in food section from the json file result. Then, we can use for-loop and offset option to retrieve the rest of the venues. A sample code is shown below. \n\n"
        },
        {
            "metadata": {},
            "cell_type": "code",
            "source": "# API call\n# https://api.foursquare.com/v2/venues/explore?client_secret=****&client_id=****&v=20180605&limit=50&near=Toronto&section=food\n# Inspect json['response']['totalResults']\n# Use for loop and off set to retrieve the rest of data\n# for (var i = 0; i < totalResults/50; i++) {\n#    url = 'https://api.foursquare.com/v2/venues/explore?client_secret=****&client_id=****&v=20161101&limit=50&near=Toronto&section=food&offset='(i + 1)*50';}",
            "execution_count": null,
            "outputs": []
        },
        {
            "metadata": {},
            "cell_type": "markdown",
            "source": "These obtained venue locations (see below for example) will then be used to find clustering and hotspots."
        },
        {
            "metadata": {},
            "cell_type": "code",
            "source": "import requests # library to handle requests\nfrom pandas.io.json import json_normalize # tranform JSON file into a pandas dataframe\nimport pandas as pd # library for data analsysis\npd.set_option('display.max_columns', None)\npd.set_option('display.max_rows', None)",
            "execution_count": 2,
            "outputs": []
        },
        {
            "metadata": {
                "collapsed": true
            },
            "cell_type": "code",
            "source": "# create the API request URL\nurl = 'https://api.foursquare.com/v2/venues/explore?client_secret={}&client_id={}&v=20180605&near=Toronto&section=food'.format(client_secret,client_id )\nresults = requests.get(url).json()",
            "execution_count": 4,
        
        },
        {
            "metadata": {},
            "cell_type": "code",
            "source": "# Obtain a dataframe with name, latitude, longitude from json file\nvenues = results['response']['groups'][0]['items']\nvenues = json_normalize(venues) # flatten JSON\nfiltered_columns = ['venue.name', 'venue.location.lat', 'venue.location.lng']\nvenues = venues.loc[:, filtered_columns]\nvenues",
            "execution_count": 6,
            "outputs": [
                {
                    "output_type": "execute_result",
                    "execution_count": 6,
                    "data": {
                        "text/plain": "                        venue.name  venue.location.lat  venue.location.lng\n0                  Pizzeria Defina           43.648723          -79.449855\n1                              Pai           43.647923          -79.388579\n2                       The Walton           43.655045          -79.414363\n3                   Byblos Toronto           43.647615          -79.388381\n4                 Tennessee Tavern           43.639971          -79.439874\n5                   Porchetta & Co           43.644664          -79.398813\n6                              Alo           43.648574          -79.396243\n7                        Sud Forno           43.646208          -79.408986\n8                 Adamson Barbecue           43.712452          -79.353083\n9                Pizzeria Libretto           43.648979          -79.420604\n10                       Bar Raval           43.655904          -79.410125\n11  Descendant Detroit Style Pizza           43.662802          -79.332380\n12                       The Abbot           43.703688          -79.413485\n13                Richmond Station           43.651569          -79.379266\n14                Pukka Restaurant           43.681055          -79.429187\n15                      Bar Isabel           43.654782          -79.420717\n16                 Wilbur Mexicana           43.644810          -79.398644\n17                  Pinky's Ca Phe           43.655530          -79.413879\n18                            nodo           43.665303          -79.465621\n19           Rodney's Oyster House           43.644975          -79.396587\n20       Imanishi Japanese Kitchen           43.649546          -79.426551\n21                            Rasa           43.662757          -79.403988\n22                    Banh Mi Boys           43.648650          -79.396859\n23  Seven Lives - Tacos y Mariscos           43.654418          -79.400545\n24                Simit & Chai Co.           43.643111          -79.406674\n25                            Miku           43.641374          -79.377531\n26                 Mamakas Taverna           43.645908          -79.419654\n27                   Mystic Muffin           43.652484          -79.372655\n28                Union Restaurant           43.645860          -79.419532\n29                     Souk Tabule           43.653756          -79.354390",
                        "text/html": "<div>\n<style scoped>\n    .dataframe tbody tr th:only-of-type {\n        vertical-align: middle;\n    }\n\n    .dataframe tbody tr th {\n        vertical-align: top;\n    }\n\n    .dataframe thead th {\n        text-align: right;\n    }\n</style>\n<table border=\"1\" class=\"dataframe\">\n  <thead>\n    <tr style=\"text-align: right;\">\n      <th></th>\n      <th>venue.name</th>\n      <th>venue.location.lat</th>\n      <th>venue.location.lng</th>\n    </tr>\n  </thead>\n  <tbody>\n    <tr>\n      <th>0</th>\n      <td>Pizzeria Defina</td>\n      <td>43.648723</td>\n      <td>-79.449855</td>\n    </tr>\n    <tr>\n      <th>1</th>\n      <td>Pai</td>\n      <td>43.647923</td>\n      <td>-79.388579</td>\n    </tr>\n    <tr>\n      <th>2</th>\n      <td>The Walton</td>\n      <td>43.655045</td>\n      <td>-79.414363</td>\n    </tr>\n    <tr>\n      <th>3</th>\n      <td>Byblos Toronto</td>\n      <td>43.647615</td>\n      <td>-79.388381</td>\n    </tr>\n    <tr>\n      <th>4</th>\n      <td>Tennessee Tavern</td>\n      <td>43.639971</td>\n      <td>-79.439874</td>\n    </tr>\n    <tr>\n      <th>5</th>\n      <td>Porchetta &amp; Co</td>\n      <td>43.644664</td>\n      <td>-79.398813</td>\n    </tr>\n    <tr>\n      <th>6</th>\n      <td>Alo</td>\n      <td>43.648574</td>\n      <td>-79.396243</td>\n    </tr>\n    <tr>\n      <th>7</th>\n      <td>Sud Forno</td>\n      <td>43.646208</td>\n      <td>-79.408986</td>\n    </tr>\n    <tr>\n      <th>8</th>\n      <td>Adamson Barbecue</td>\n      <td>43.712452</td>\n      <td>-79.353083</td>\n    </tr>\n    <tr>\n      <th>9</th>\n      <td>Pizzeria Libretto</td>\n      <td>43.648979</td>\n      <td>-79.420604</td>\n    </tr>\n    <tr>\n      <th>10</th>\n      <td>Bar Raval</td>\n      <td>43.655904</td>\n      <td>-79.410125</td>\n    </tr>\n    <tr>\n      <th>11</th>\n      <td>Descendant Detroit Style Pizza</td>\n      <td>43.662802</td>\n      <td>-79.332380</td>\n    </tr>\n    <tr>\n      <th>12</th>\n      <td>The Abbot</td>\n      <td>43.703688</td>\n      <td>-79.413485</td>\n    </tr>\n    <tr>\n      <th>13</th>\n      <td>Richmond Station</td>\n      <td>43.651569</td>\n      <td>-79.379266</td>\n    </tr>\n    <tr>\n      <th>14</th>\n      <td>Pukka Restaurant</td>\n      <td>43.681055</td>\n      <td>-79.429187</td>\n    </tr>\n    <tr>\n      <th>15</th>\n      <td>Bar Isabel</td>\n      <td>43.654782</td>\n      <td>-79.420717</td>\n    </tr>\n    <tr>\n      <th>16</th>\n      <td>Wilbur Mexicana</td>\n      <td>43.644810</td>\n      <td>-79.398644</td>\n    </tr>\n    <tr>\n      <th>17</th>\n      <td>Pinky's Ca Phe</td>\n      <td>43.655530</td>\n      <td>-79.413879</td>\n    </tr>\n    <tr>\n      <th>18</th>\n      <td>nodo</td>\n      <td>43.665303</td>\n      <td>-79.465621</td>\n    </tr>\n    <tr>\n      <th>19</th>\n      <td>Rodney's Oyster House</td>\n      <td>43.644975</td>\n      <td>-79.396587</td>\n    </tr>\n    <tr>\n      <th>20</th>\n      <td>Imanishi Japanese Kitchen</td>\n      <td>43.649546</td>\n      <td>-79.426551</td>\n    </tr>\n    <tr>\n      <th>21</th>\n      <td>Rasa</td>\n      <td>43.662757</td>\n      <td>-79.403988</td>\n    </tr>\n    <tr>\n      <th>22</th>\n      <td>Banh Mi Boys</td>\n      <td>43.648650</td>\n      <td>-79.396859</td>\n    </tr>\n    <tr>\n      <th>23</th>\n      <td>Seven Lives - Tacos y Mariscos</td>\n      <td>43.654418</td>\n      <td>-79.400545</td>\n    </tr>\n    <tr>\n      <th>24</th>\n      <td>Simit &amp; Chai Co.</td>\n      <td>43.643111</td>\n      <td>-79.406674</td>\n    </tr>\n    <tr>\n      <th>25</th>\n      <td>Miku</td>\n      <td>43.641374</td>\n      <td>-79.377531</td>\n    </tr>\n    <tr>\n      <th>26</th>\n      <td>Mamakas Taverna</td>\n      <td>43.645908</td>\n      <td>-79.419654</td>\n    </tr>\n    <tr>\n      <th>27</th>\n      <td>Mystic Muffin</td>\n      <td>43.652484</td>\n      <td>-79.372655</td>\n    </tr>\n    <tr>\n      <th>28</th>\n      <td>Union Restaurant</td>\n      <td>43.645860</td>\n      <td>-79.419532</td>\n    </tr>\n    <tr>\n      <th>29</th>\n      <td>Souk Tabule</td>\n      <td>43.653756</td>\n      <td>-79.354390</td>\n    </tr>\n  </tbody>\n</table>\n</div>"
                    },
                    "metadata": {}
                }
            ]
        },
        {
            "metadata": {},
            "cell_type": "markdown",
            "source": "\n\n"
        }
    ],
    "metadata": {
        "kernelspec": {
            "name": "python3",
            "display_name": "Python 3.6",
            "language": "python"
        },
        "language_info": {
            "name": "python",
            "version": "3.6.9",
            "mimetype": "text/x-python",
            "codemirror_mode": {
                "name": "ipython",
                "version": 3
            },
            "pygments_lexer": "ipython3",
            "nbconvert_exporter": "python",
            "file_extension": ".py"
        }
    },
    "nbformat": 4,
    "nbformat_minor": 1
}
